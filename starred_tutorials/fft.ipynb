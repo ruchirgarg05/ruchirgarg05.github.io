{
 "cells": [
  {
   "cell_type": "code",
   "execution_count": 5,
   "metadata": {},
   "outputs": [
    {
     "name": "stderr",
     "output_type": "stream",
     "text": [
      "c:\\Users\\ruchi\\anaconda3\\Lib\\site-packages\\matplotlib\\animation.py:884: UserWarning: Animation was deleted without rendering anything. This is most likely not intended. To prevent deletion, assign the Animation to a variable, e.g. `anim`, that exists until you output the Animation using `plt.show()` or `anim.save()`.\n",
      "  warnings.warn(\n"
     ]
    },
    {
     "name": "stdout",
     "output_type": "stream",
     "text": [
      "Animation saved to animation.html\n"
     ]
    },
    {
     "data": {
      "image/png": "[encoded data removed]",
      "text/plain": [
       "<Figure size 800x600 with 2 Axes>"
      ]
     },
     "metadata": {},
     "output_type": "display_data"
    }
   ],
   "source": [
    "import numpy as np\n",
    "import matplotlib.pyplot as plt\n",
    "import matplotlib.animation as animation\n",
    "\n",
    "# Define the shape to be traced (in this case, the letter 's')\n",
    "def s_shape(t):\n",
    "    x = np.cos(t) * (1 + 0.5 * np.cos(3 * t))\n",
    "    y = np.sin(t) * (1 + 0.5 * np.cos(3 * t))\n",
    "    return x, y\n",
    "\n",
    "# Define the number of epicycles and their frequencies\n",
    "n_epicycles = 10\n",
    "frequencies = np.arange(1, n_epicycles + 1)\n",
    "\n",
    "# Create a figure and axis for the animation\n",
    "fig, ax = plt.subplots(2, 1, figsize=(8, 6))\n",
    "\n",
    "# Initialize the axis limits and aspect ratio\n",
    "ax[0].set_xlim(-2, 2)\n",
    "ax[0].set_ylim(-2, 2)\n",
    "ax[0].set_aspect('equal')\n",
    "\n",
    "ax[1].set_xlim(-2, 2)\n",
    "ax[1].set_ylim(-2, 2)\n",
    "ax[1].set_aspect('equal')\n",
    "\n",
    "# Animation function\n",
    "def animate(t):\n",
    "    ax[0].clear()\n",
    "    ax[1].clear()\n",
    "    \n",
    "    ax[0].set_xlim(-2, 2)\n",
    "    ax[0].set_ylim(-2, 2)\n",
    "    ax[0].set_aspect('equal')\n",
    "\n",
    "    ax[1].set_xlim(-2, 2)\n",
    "    ax[1].set_ylim(-2, 2)\n",
    "    ax[1].set_aspect('equal')\n",
    "    \n",
    "    x, y = s_shape(t)\n",
    "    \n",
    "    # Draw the vectors\n",
    "    for i in range(n_epicycles):\n",
    "        ax[0].arrow(0, 0, x * frequencies[i], y * frequencies[i], head_width=0.05, head_length=0.1, color='b', alpha=0.5)\n",
    "        if i == n_epicycles - 1:\n",
    "            ax[0].arrow(0, 0, x * frequencies[i], y * frequencies[i], head_width=0.05, head_length=0.1, color='r')\n",
    "    \n",
    "    # Draw the circles\n",
    "    for i in range(n_epicycles):\n",
    "        circle = plt.Circle((x * frequencies[i], y * frequencies[i]), 1 / frequencies[i], fill=False, color='k')\n",
    "        ax[1].add_patch(circle)\n",
    "\n",
    "# Create the animation\n",
    "ani = animation.FuncAnimation(fig, animate, frames=np.linspace(0, 2 * np.pi, 128),\n",
    "                              interval=50)\n",
    "\n",
    "# Save the animation to an HTML file\n",
    "ani.save('animation.html', writer='html')\n",
    "\n",
    "print(\"Animation saved to animation.html\")"
   ]
  },
  {
   "cell_type": "code",
   "execution_count": null,
   "metadata": {},
   "outputs": [],
   "source": []
  }
 ],
 "metadata": {
  "kernelspec": {
   "display_name": "base",
   "language": "python",
   "name": "python3"
  },
  "language_info": {
   "codemirror_mode": {
    "name": "ipython",
    "version": 3
   },
   "file_extension": ".py",
   "mimetype": "text/x-python",
   "name": "python",
   "nbconvert_exporter": "python",
   "pygments_lexer": "ipython3",
   "version": "3.11.5"
  }
 },
 "nbformat": 4,
 "nbformat_minor": 2
}
